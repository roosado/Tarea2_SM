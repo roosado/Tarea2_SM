{
 "cells": [
  {
   "cell_type": "markdown",
   "metadata": {},
   "source": [
    "# Resumenes de Articulos"
   ]
  },
  {
   "cell_type": "markdown",
   "metadata": {},
   "source": [
    "## Programming language of the year? Python is standout in latest rankings\n",
    "###  Liam Tung"
   ]
  },
  {
   "cell_type": "markdown",
   "metadata": {},
   "source": [
    "   \n",
    "El autor comenta como python se ha cementado en el tercer lugar de los lenguajes de programación \n",
    "mas populares. Esto despues de ver el incremento de popularidad mas grande en el indice de\n",
    "popularidad generado por Tiobe. Hasta ahora, solo Java y C superan su popularidad.\n",
    "\n",
    "Tambien comenta que Tiobe reporta que, seguido es el primer lenguaje enseñado en universidades\n",
    "debido a su amplio numero de areas en donde puede ser utilizado. Analisis estadistico, machine\n",
    "learning, programación web,  y computación cientifica son solo algunas de las areas que han \n",
    "empujado a Python a esta posición.\n",
    "\n",
    "Python tambien es de los programas mas populares con los hackers, debido a su facilidad de sintáxis\n",
    "y la abundancia de librerias gratis que pueden ser reutilizadas de manera maliciosa.\n",
    "\n",
    "Otros de los lenguajes que reportaron altas en su uso desde el ultimo reporte de Tiobe son \n",
    "Visual Basic .NET, PHP, SQL, Objective-C, MATLAB, Assembly language, Go, PL/SQL."
   ]
  },
  {
   "cell_type": "markdown",
   "metadata": {},
   "source": [
    "## 5 Reasons You Should Learn Python Now\n",
    "### Pluralsight"
   ]
  },
  {
   "cell_type": "markdown",
   "metadata": {},
   "source": [
    "\n"
   ]
  },
  {
   "cell_type": "code",
   "execution_count": null,
   "metadata": {},
   "outputs": [],
   "source": []
  }
 ],
 "metadata": {
  "kernelspec": {
   "display_name": "Python 3",
   "language": "python",
   "name": "python3"
  },
  "language_info": {
   "codemirror_mode": {
    "name": "ipython",
    "version": 3
   },
   "file_extension": ".py",
   "mimetype": "text/x-python",
   "name": "python",
   "nbconvert_exporter": "python",
   "pygments_lexer": "ipython3",
   "version": "3.8.3"
  }
 },
 "nbformat": 4,
 "nbformat_minor": 4
}
