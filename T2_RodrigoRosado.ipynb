{
 "cells": [
  {
   "cell_type": "markdown",
   "metadata": {},
   "source": [
    "# Resumenes de Articulos"
   ]
  },
  {
   "cell_type": "markdown",
   "metadata": {},
   "source": [
    "## Programming language of the year? Python is standout in latest rankings\n",
    "###  Liam Tung"
   ]
  },
  {
   "cell_type": "markdown",
   "metadata": {},
   "source": [
    "   \n",
    "El autor comenta como python se ha cementado en el tercer lugar de los lenguajes de programación \n",
    "mas populares. Esto despues de ver el incremento de popularidad mas grande en el indice de\n",
    "popularidad generado por Tiobe. Hasta ahora, solo Java y C superan su popularidad.\n",
    "\n",
    "Tambien comenta que Tiobe reporta que, seguido es el primer lenguaje enseñado en universidades\n",
    "debido a su amplio numero de areas en donde puede ser utilizado. Analisis estadistico, machine\n",
    "learning, programación web,  y computación cientifica son solo algunas de las areas que han \n",
    "empujado a Python a esta posición.\n",
    "\n",
    "Python tambien es de los programas mas populares con los hackers, debido a su facilidad de sintáxis\n",
    "y la abundancia de librerias gratis que pueden ser reutilizadas de manera maliciosa.\n",
    "\n",
    "Otros de los lenguajes que reportaron altas en su uso desde el ultimo reporte de Tiobe son \n",
    "Visual Basic .NET, PHP, SQL, Objective-C, MATLAB, Assembly language, Go, PL/SQL."
   ]
  },
  {
   "cell_type": "markdown",
   "metadata": {},
   "source": [
    "## 5 Reasons You Should Learn Python Now\n",
    "### Pluralsight"
   ]
  },
  {
   "cell_type": "markdown",
   "metadata": {},
   "source": [
    "Los autores este articulo comienzan explicando por qué el uso del lenguaje ha estado en constante crecimiento en los ultimmos años. La legibilidad de Python hace que sea el lenguaje de programacion ideal para principiantes, como son la mayoria de los estudiantes de universidad. \n",
    "\n",
    "Tambien notan como su potencial ha empujado a compañias como Google, Dropbox, Spotify, y Netflix a usarlo. Explica como en Google se dice que \"Python where we can, C where we must.\" Esto como decisión de ingenieria ya que Python les permite realizar cambios rapidos de mantenimiento. Mientras que otras empresas como Spotify y Netflix utilizan Java como su base, todo lo que tiene que ver con analitica de datos y sus metodos de pago son realizados por programas escritos en Python. \n",
    "\n",
    "Otras de las ventajas comentadas por los autores del artículo son la gran variedad de aplicaciones, su potencial como herramienta de prototipado e iteración. Tambien comentan en la importancia de la comunidad que constantemente contribuyen al lenguaje creando librerias y herramientas para facilitar su uso en muchas areas. \n",
    "\n"
   ]
  },
  {
   "cell_type": "code",
   "execution_count": null,
   "metadata": {},
   "outputs": [],
   "source": []
  }
 ],
 "metadata": {
  "kernelspec": {
   "display_name": "Python 3",
   "language": "python",
   "name": "python3"
  },
  "language_info": {
   "codemirror_mode": {
    "name": "ipython",
    "version": 3
   },
   "file_extension": ".py",
   "mimetype": "text/x-python",
   "name": "python",
   "nbconvert_exporter": "python",
   "pygments_lexer": "ipython3",
   "version": "3.8.3"
  }
 },
 "nbformat": 4,
 "nbformat_minor": 4
}
